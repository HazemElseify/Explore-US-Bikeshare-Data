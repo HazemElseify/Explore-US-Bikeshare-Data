{
 "cells": [
  {
   "cell_type": "code",
   "execution_count": 2,
   "metadata": {
    "collapsed": true
   },
   "outputs": [],
   "source": [
    "import time\n",
    "import pandas as pd\n",
    "import numpy as np"
   ]
  },
  {
   "cell_type": "code",
   "execution_count": 5,
   "outputs": [],
   "source": [
    "CITY_DATA = { 'chicago': 'chicago.csv',\n",
    "              'new york': 'new_york_city.csv',\n",
    "              'washington': 'washington.csv' }"
   ],
   "metadata": {
    "collapsed": false,
    "pycharm": {
     "name": "#%%\n"
    }
   }
  },
  {
   "cell_type": "code",
   "execution_count": 6,
   "outputs": [],
   "source": [
    "df=pd.read_csv(CITY_DATA['chicago'])"
   ],
   "metadata": {
    "collapsed": false,
    "pycharm": {
     "name": "#%%\n"
    }
   }
  },
  {
   "cell_type": "code",
   "execution_count": 7,
   "outputs": [
    {
     "data": {
      "text/plain": "   Unnamed: 0           Start Time             End Time  Trip Duration  \\\n0     1423854  2017-06-23 15:09:32  2017-06-23 15:14:53            321   \n1      955915  2017-05-25 18:19:03  2017-05-25 18:45:53           1610   \n2        9031  2017-01-04 08:27:49  2017-01-04 08:34:45            416   \n3      304487  2017-03-06 13:49:38  2017-03-06 13:55:28            350   \n4       45207  2017-01-17 14:53:07  2017-01-17 15:02:01            534   \n\n                   Start Station                   End Station   User Type  \\\n0           Wood St & Hubbard St       Damen Ave & Chicago Ave  Subscriber   \n1            Theater on the Lake  Sheffield Ave & Waveland Ave  Subscriber   \n2             May St & Taylor St           Wood St & Taylor St  Subscriber   \n3  Christiana Ave & Lawrence Ave  St. Louis Ave & Balmoral Ave  Subscriber   \n4         Clark St & Randolph St  Desplaines St & Jackson Blvd  Subscriber   \n\n   Gender  Birth Year  \n0    Male      1992.0  \n1  Female      1992.0  \n2    Male      1981.0  \n3    Male      1986.0  \n4    Male      1975.0  ",
      "text/html": "<div>\n<style scoped>\n    .dataframe tbody tr th:only-of-type {\n        vertical-align: middle;\n    }\n\n    .dataframe tbody tr th {\n        vertical-align: top;\n    }\n\n    .dataframe thead th {\n        text-align: right;\n    }\n</style>\n<table border=\"1\" class=\"dataframe\">\n  <thead>\n    <tr style=\"text-align: right;\">\n      <th></th>\n      <th>Unnamed: 0</th>\n      <th>Start Time</th>\n      <th>End Time</th>\n      <th>Trip Duration</th>\n      <th>Start Station</th>\n      <th>End Station</th>\n      <th>User Type</th>\n      <th>Gender</th>\n      <th>Birth Year</th>\n    </tr>\n  </thead>\n  <tbody>\n    <tr>\n      <th>0</th>\n      <td>1423854</td>\n      <td>2017-06-23 15:09:32</td>\n      <td>2017-06-23 15:14:53</td>\n      <td>321</td>\n      <td>Wood St &amp; Hubbard St</td>\n      <td>Damen Ave &amp; Chicago Ave</td>\n      <td>Subscriber</td>\n      <td>Male</td>\n      <td>1992.0</td>\n    </tr>\n    <tr>\n      <th>1</th>\n      <td>955915</td>\n      <td>2017-05-25 18:19:03</td>\n      <td>2017-05-25 18:45:53</td>\n      <td>1610</td>\n      <td>Theater on the Lake</td>\n      <td>Sheffield Ave &amp; Waveland Ave</td>\n      <td>Subscriber</td>\n      <td>Female</td>\n      <td>1992.0</td>\n    </tr>\n    <tr>\n      <th>2</th>\n      <td>9031</td>\n      <td>2017-01-04 08:27:49</td>\n      <td>2017-01-04 08:34:45</td>\n      <td>416</td>\n      <td>May St &amp; Taylor St</td>\n      <td>Wood St &amp; Taylor St</td>\n      <td>Subscriber</td>\n      <td>Male</td>\n      <td>1981.0</td>\n    </tr>\n    <tr>\n      <th>3</th>\n      <td>304487</td>\n      <td>2017-03-06 13:49:38</td>\n      <td>2017-03-06 13:55:28</td>\n      <td>350</td>\n      <td>Christiana Ave &amp; Lawrence Ave</td>\n      <td>St. Louis Ave &amp; Balmoral Ave</td>\n      <td>Subscriber</td>\n      <td>Male</td>\n      <td>1986.0</td>\n    </tr>\n    <tr>\n      <th>4</th>\n      <td>45207</td>\n      <td>2017-01-17 14:53:07</td>\n      <td>2017-01-17 15:02:01</td>\n      <td>534</td>\n      <td>Clark St &amp; Randolph St</td>\n      <td>Desplaines St &amp; Jackson Blvd</td>\n      <td>Subscriber</td>\n      <td>Male</td>\n      <td>1975.0</td>\n    </tr>\n  </tbody>\n</table>\n</div>"
     },
     "execution_count": 7,
     "metadata": {},
     "output_type": "execute_result"
    }
   ],
   "source": [
    "df.head()"
   ],
   "metadata": {
    "collapsed": false,
    "pycharm": {
     "name": "#%%\n"
    }
   }
  },
  {
   "cell_type": "code",
   "execution_count": 8,
   "outputs": [
    {
     "data": {
      "text/plain": "0         1423854\n1          955915\n2            9031\n3          304487\n4           45207\n           ...   \n299995      64825\n299996     695993\n299997     159685\n299998     564681\n299999    1021247\nName: a, Length: 300000, dtype: int64"
     },
     "execution_count": 8,
     "metadata": {},
     "output_type": "execute_result"
    }
   ],
   "source": [
    "df.rename(columns={\"Unnamed: 0\":\"a\"},inplace=True)\n",
    "df.pop('a')"
   ],
   "metadata": {
    "collapsed": false,
    "pycharm": {
     "name": "#%%\n"
    }
   }
  },
  {
   "cell_type": "code",
   "execution_count": 9,
   "outputs": [
    {
     "data": {
      "text/plain": "Start Time       False\nEnd Time         False\nTrip Duration    False\nStart Station    False\nEnd Station      False\nUser Type        False\nGender            True\nBirth Year        True\ndtype: bool"
     },
     "execution_count": 9,
     "metadata": {},
     "output_type": "execute_result"
    }
   ],
   "source": [
    "df.isnull().any()"
   ],
   "metadata": {
    "collapsed": false,
    "pycharm": {
     "name": "#%%\n"
    }
   }
  },
  {
   "cell_type": "code",
   "execution_count": 10,
   "outputs": [
    {
     "data": {
      "text/plain": "Start Time       False\nEnd Time         False\nTrip Duration    False\nStart Station    False\nEnd Station      False\nUser Type        False\nGender           False\nBirth Year       False\ndtype: bool"
     },
     "execution_count": 10,
     "metadata": {},
     "output_type": "execute_result"
    }
   ],
   "source": [
    "df = df.dropna(subset=['Gender', 'Birth Year'])\n",
    "df.isnull().any()"
   ],
   "metadata": {
    "collapsed": false,
    "pycharm": {
     "name": "#%%\n"
    }
   }
  },
  {
   "cell_type": "code",
   "execution_count": 11,
   "outputs": [],
   "source": [
    "df['Start Time']=pd.to_datetime(df['Start Time'])\n",
    "df['Month']=df['Start Time'].dt.month\n",
    "df['WeekDay']=df['Start Time'].dt.dayofweek\n",
    "df['Hour']=df['Start Time'].dt.hour\n",
    "df['SE Station']=df['Start Station']+' and '+df['End Station']"
   ],
   "metadata": {
    "collapsed": false,
    "pycharm": {
     "name": "#%%\n"
    }
   }
  },
  {
   "cell_type": "code",
   "execution_count": 12,
   "outputs": [
    {
     "data": {
      "text/plain": "           Start Time             End Time  Trip Duration  \\\n0 2017-06-23 15:09:32  2017-06-23 15:14:53            321   \n1 2017-05-25 18:19:03  2017-05-25 18:45:53           1610   \n2 2017-01-04 08:27:49  2017-01-04 08:34:45            416   \n3 2017-03-06 13:49:38  2017-03-06 13:55:28            350   \n4 2017-01-17 14:53:07  2017-01-17 15:02:01            534   \n\n                   Start Station                   End Station   User Type  \\\n0           Wood St & Hubbard St       Damen Ave & Chicago Ave  Subscriber   \n1            Theater on the Lake  Sheffield Ave & Waveland Ave  Subscriber   \n2             May St & Taylor St           Wood St & Taylor St  Subscriber   \n3  Christiana Ave & Lawrence Ave  St. Louis Ave & Balmoral Ave  Subscriber   \n4         Clark St & Randolph St  Desplaines St & Jackson Blvd  Subscriber   \n\n   Gender  Birth Year  Month  WeekDay  Hour  \\\n0    Male      1992.0      6        4    15   \n1  Female      1992.0      5        3    18   \n2    Male      1981.0      1        2     8   \n3    Male      1986.0      3        0    13   \n4    Male      1975.0      1        1    14   \n\n                                          SE Station  \n0   Wood St & Hubbard St and Damen Ave & Chicago Ave  \n1  Theater on the Lake and Sheffield Ave & Wavela...  \n2         May St & Taylor St and Wood St & Taylor St  \n3  Christiana Ave & Lawrence Ave and St. Louis Av...  \n4  Clark St & Randolph St and Desplaines St & Jac...  ",
      "text/html": "<div>\n<style scoped>\n    .dataframe tbody tr th:only-of-type {\n        vertical-align: middle;\n    }\n\n    .dataframe tbody tr th {\n        vertical-align: top;\n    }\n\n    .dataframe thead th {\n        text-align: right;\n    }\n</style>\n<table border=\"1\" class=\"dataframe\">\n  <thead>\n    <tr style=\"text-align: right;\">\n      <th></th>\n      <th>Start Time</th>\n      <th>End Time</th>\n      <th>Trip Duration</th>\n      <th>Start Station</th>\n      <th>End Station</th>\n      <th>User Type</th>\n      <th>Gender</th>\n      <th>Birth Year</th>\n      <th>Month</th>\n      <th>WeekDay</th>\n      <th>Hour</th>\n      <th>SE Station</th>\n    </tr>\n  </thead>\n  <tbody>\n    <tr>\n      <th>0</th>\n      <td>2017-06-23 15:09:32</td>\n      <td>2017-06-23 15:14:53</td>\n      <td>321</td>\n      <td>Wood St &amp; Hubbard St</td>\n      <td>Damen Ave &amp; Chicago Ave</td>\n      <td>Subscriber</td>\n      <td>Male</td>\n      <td>1992.0</td>\n      <td>6</td>\n      <td>4</td>\n      <td>15</td>\n      <td>Wood St &amp; Hubbard St and Damen Ave &amp; Chicago Ave</td>\n    </tr>\n    <tr>\n      <th>1</th>\n      <td>2017-05-25 18:19:03</td>\n      <td>2017-05-25 18:45:53</td>\n      <td>1610</td>\n      <td>Theater on the Lake</td>\n      <td>Sheffield Ave &amp; Waveland Ave</td>\n      <td>Subscriber</td>\n      <td>Female</td>\n      <td>1992.0</td>\n      <td>5</td>\n      <td>3</td>\n      <td>18</td>\n      <td>Theater on the Lake and Sheffield Ave &amp; Wavela...</td>\n    </tr>\n    <tr>\n      <th>2</th>\n      <td>2017-01-04 08:27:49</td>\n      <td>2017-01-04 08:34:45</td>\n      <td>416</td>\n      <td>May St &amp; Taylor St</td>\n      <td>Wood St &amp; Taylor St</td>\n      <td>Subscriber</td>\n      <td>Male</td>\n      <td>1981.0</td>\n      <td>1</td>\n      <td>2</td>\n      <td>8</td>\n      <td>May St &amp; Taylor St and Wood St &amp; Taylor St</td>\n    </tr>\n    <tr>\n      <th>3</th>\n      <td>2017-03-06 13:49:38</td>\n      <td>2017-03-06 13:55:28</td>\n      <td>350</td>\n      <td>Christiana Ave &amp; Lawrence Ave</td>\n      <td>St. Louis Ave &amp; Balmoral Ave</td>\n      <td>Subscriber</td>\n      <td>Male</td>\n      <td>1986.0</td>\n      <td>3</td>\n      <td>0</td>\n      <td>13</td>\n      <td>Christiana Ave &amp; Lawrence Ave and St. Louis Av...</td>\n    </tr>\n    <tr>\n      <th>4</th>\n      <td>2017-01-17 14:53:07</td>\n      <td>2017-01-17 15:02:01</td>\n      <td>534</td>\n      <td>Clark St &amp; Randolph St</td>\n      <td>Desplaines St &amp; Jackson Blvd</td>\n      <td>Subscriber</td>\n      <td>Male</td>\n      <td>1975.0</td>\n      <td>1</td>\n      <td>1</td>\n      <td>14</td>\n      <td>Clark St &amp; Randolph St and Desplaines St &amp; Jac...</td>\n    </tr>\n  </tbody>\n</table>\n</div>"
     },
     "execution_count": 12,
     "metadata": {},
     "output_type": "execute_result"
    }
   ],
   "source": [
    "df.head()"
   ],
   "metadata": {
    "collapsed": false,
    "pycharm": {
     "name": "#%%\n"
    }
   }
  },
  {
   "cell_type": "code",
   "execution_count": 282,
   "outputs": [
    {
     "name": "stdout",
     "output_type": "stream",
     "text": [
      "most common hour: 12\n"
     ]
    }
   ],
   "source": [
    "res=df.loc[(df['Month'] == 5) & (df['WeekDay']==6),['Hour']].mode()\n",
    "res=str(res.iloc[0]['Hour'])\n",
    "print('most common hour: {}'.format(res))"
   ],
   "metadata": {
    "collapsed": false,
    "pycharm": {
     "name": "#%%\n"
    }
   }
  },
  {
   "cell_type": "code",
   "execution_count": 248,
   "outputs": [
    {
     "name": "stdout",
     "output_type": "stream",
     "text": [
      "most common Month: 6\n"
     ]
    }
   ],
   "source": [
    "res=df.loc[(df['WeekDay']==5),['Month']].mode()\n",
    "res=str(res.iloc[0]['Month'])\n",
    "print('most common Month: {}'.format(res))"
   ],
   "metadata": {
    "collapsed": false,
    "pycharm": {
     "name": "#%%\n"
    }
   }
  },
  {
   "cell_type": "code",
   "execution_count": 249,
   "outputs": [
    {
     "name": "stdout",
     "output_type": "stream",
     "text": [
      "most common day: 2\n"
     ]
    }
   ],
   "source": [
    "res=df.loc[(df['Month']==5),['WeekDay']].mode()\n",
    "res=str(res.iloc[0]['WeekDay'])\n",
    "print('most common day: {}'.format(res))"
   ],
   "metadata": {
    "collapsed": false,
    "pycharm": {
     "name": "#%%\n"
    }
   }
  },
  {
   "cell_type": "code",
   "execution_count": 250,
   "outputs": [
    {
     "name": "stdout",
     "output_type": "stream",
     "text": [
      "most common Start Station: Lake Shore Dr & North Blvd\n"
     ]
    }
   ],
   "source": [
    "res=df.loc[(df['Month'] == 6) & (df['WeekDay']==5),['Start Station']].mode() #both\n",
    "res=str(res.iloc[0]['Start Station'])\n",
    "print('most common Start Station: {}'.format(res))"
   ],
   "metadata": {
    "collapsed": false,
    "pycharm": {
     "name": "#%%\n"
    }
   }
  },
  {
   "cell_type": "code",
   "execution_count": 251,
   "outputs": [
    {
     "name": "stdout",
     "output_type": "stream",
     "text": [
      "most common End Station: Lake Shore Dr & North Blvd\n"
     ]
    }
   ],
   "source": [
    "res=df.loc[(df['Month'] == 6) & (df['WeekDay']==5),['End Station']].mode() #both\n",
    "res=str(res.iloc[0]['End Station'])\n",
    "print('most common End Station: {}'.format(res))"
   ],
   "metadata": {
    "collapsed": false,
    "pycharm": {
     "name": "#%%\n"
    }
   }
  },
  {
   "cell_type": "code",
   "execution_count": 252,
   "outputs": [
    {
     "name": "stdout",
     "output_type": "stream",
     "text": [
      "most common End most common trip from start to end: Lake Shore Dr & North Blvd and Streeter Dr & Grand Ave and counts 7684\n"
     ]
    }
   ],
   "source": [
    "res=df.loc[(df['Month'] == 6) & (df['WeekDay']==5),['SE Station']].mode() #both\n",
    "res2=df.loc[(df['Month'] == 6) & (df['WeekDay']==5),['SE Station']].count()\n",
    "res=str(res.iloc[0]['SE Station'])\n",
    "res2=int(res2.iloc[0])\n",
    "print('most common End most common trip from start to end: {} and counts {}'.format(res,res2))"
   ],
   "metadata": {
    "collapsed": false,
    "pycharm": {
     "name": "#%%\n"
    }
   }
  },
  {
   "cell_type": "code",
   "execution_count": 253,
   "outputs": [
    {
     "name": "stdout",
     "output_type": "stream",
     "text": [
      "Total Travel time in sec: 6458272 and counts 7684\n"
     ]
    }
   ],
   "source": [
    "res=df.loc[(df['Month'] == 6) & (df['WeekDay']==5),['Trip Duration']].sum() #both\n",
    "res2=df.loc[(df['Month'] == 6) & (df['WeekDay']==5),['Trip Duration']].count()\n",
    "res=str(res.iloc[0])\n",
    "res2=int(res2.iloc[0])\n",
    "print('Total Travel time in sec: {} and counts {}'.format(res,res2))"
   ],
   "metadata": {
    "collapsed": false,
    "pycharm": {
     "name": "#%%\n"
    }
   }
  },
  {
   "cell_type": "code",
   "execution_count": 254,
   "outputs": [
    {
     "name": "stdout",
     "output_type": "stream",
     "text": [
      "Total Travel time in sec: 840.4830817282665 and counts 7684\n"
     ]
    }
   ],
   "source": [
    "res=df.loc[(df['Month'] == 6) & (df['WeekDay']==5),['Trip Duration']].mean() #both\n",
    "res2=df.loc[(df['Month'] == 6) & (df['WeekDay']==5),['Trip Duration']].count()\n",
    "res=str(res.iloc[0])\n",
    "res2=int(res2.iloc[0])\n",
    "print('Total Travel time in sec: {} and counts {}'.format(res,res2))"
   ],
   "metadata": {
    "collapsed": false,
    "pycharm": {
     "name": "#%%\n"
    }
   }
  },
  {
   "cell_type": "code",
   "execution_count": 255,
   "outputs": [
    {
     "name": "stdout",
     "output_type": "stream",
     "text": [
      "Type of Users: User Type \n",
      "Subscriber    7681\n",
      "Customer         3\n",
      "dtype: int64 \n",
      "counts 7684\n"
     ]
    }
   ],
   "source": [
    "res=df.loc[(df['Month'] == 6) & (df['WeekDay']==5),['User Type']].value_counts() #both\n",
    "#res=str(res.iloc[0])\n",
    "print('Type of Users: {} \\ncounts {}'.format(res,res2))"
   ],
   "metadata": {
    "collapsed": false,
    "pycharm": {
     "name": "#%%\n"
    }
   }
  },
  {
   "cell_type": "code",
   "execution_count": 256,
   "outputs": [
    {
     "name": "stdout",
     "output_type": "stream",
     "text": [
      "User's Gender: Gender\n",
      "Male      5236\n",
      "Female    2448\n",
      "dtype: int64 \n",
      "counts 7684\n"
     ]
    }
   ],
   "source": [
    "res=df.loc[(df['Month'] == 6) & (df['WeekDay']==5),['Gender']].value_counts() #both\n",
    "#res=str(res.iloc[0])\n",
    "print('User\\'s Gender: {} \\ncounts {}'.format(res,res2))"
   ],
   "metadata": {
    "collapsed": false,
    "pycharm": {
     "name": "#%%\n"
    }
   }
  },
  {
   "cell_type": "code",
   "execution_count": 258,
   "outputs": [
    {
     "name": "stdout",
     "output_type": "stream",
     "text": [
      "earliest Year: 1899.0 , most recent year: 2001.0 , most common year: 1992.0 and counts 7684\n"
     ]
    }
   ],
   "source": [
    "resMin=df.loc[(df['Month'] == 6)&(df['WeekDay']==5),['Birth Year']].min() #both\n",
    "resMax=df.loc[(df['Month'] == 6)&(df['WeekDay']==5),['Birth Year']].max() #both\n",
    "res=df.loc[(df['Month'] == 6)&(df['WeekDay']==5),['Birth Year']].mode() #both\n",
    "res2=df.loc[(df['Month'] == 6)&(df['WeekDay']==5),['Birth Year']].count()\n",
    "resMin=resMin.iloc[0]\n",
    "resMax=resMax.iloc[0]\n",
    "res=res.iloc[0]['Birth Year']\n",
    "res2=res2.iloc[0]\n",
    "print('earliest Year: {} , most recent year: {} , most common year: {} and counts {}'.format(resMin,resMax,res,res2))"
   ],
   "metadata": {
    "collapsed": false,
    "pycharm": {
     "name": "#%%\n"
    }
   }
  },
  {
   "cell_type": "code",
   "execution_count": 280,
   "outputs": [
    {
     "data": {
      "text/plain": "            Start Time             End Time  Trip Duration  \\\n2  2017-01-04 08:27:49  2017-01-04 08:34:45            416   \n10 2017-02-15 07:09:55  2017-02-15 07:14:56            301   \n16 2017-05-03 13:20:38  2017-05-03 13:31:13            635   \n24 2017-05-03 09:41:11  2017-05-03 09:49:10            479   \n49 2017-02-08 07:13:31  2017-02-08 07:16:17            166   \n\n                      Start Station                 End Station   User Type  \\\n2                May St & Taylor St         Wood St & Taylor St  Subscriber   \n10             Broadway & Barry Ave    Wilton Ave & Belmont Ave  Subscriber   \n16         Ada St & Washington Blvd          Daley Center Plaza  Subscriber   \n24        Wabash Ave & Roosevelt Rd   Halsted St & Roosevelt Rd  Subscriber   \n49  Pine Grove Ave & Irving Park Rd  Clarendon Ave & Gordon Ter  Subscriber   \n\n    Gender  Birth Year  Month  WeekDay  Hour  \\\n2     Male      1981.0      1        2     8   \n10  Female      1993.0      2        2     7   \n16    Male      1967.0      5        2    13   \n24    Male      1992.0      5        2     9   \n49    Male      1986.0      2        2     7   \n\n                                           SE Station  \n2          May St & Taylor St and Wood St & Taylor St  \n10  Broadway & Barry Ave and Wilton Ave & Belmont Ave  \n16    Ada St & Washington Blvd and Daley Center Plaza  \n24  Wabash Ave & Roosevelt Rd and Halsted St & Roo...  \n49  Pine Grove Ave & Irving Park Rd and Clarendon ...  ",
      "text/html": "<div>\n<style scoped>\n    .dataframe tbody tr th:only-of-type {\n        vertical-align: middle;\n    }\n\n    .dataframe tbody tr th {\n        vertical-align: top;\n    }\n\n    .dataframe thead th {\n        text-align: right;\n    }\n</style>\n<table border=\"1\" class=\"dataframe\">\n  <thead>\n    <tr style=\"text-align: right;\">\n      <th></th>\n      <th>Start Time</th>\n      <th>End Time</th>\n      <th>Trip Duration</th>\n      <th>Start Station</th>\n      <th>End Station</th>\n      <th>User Type</th>\n      <th>Gender</th>\n      <th>Birth Year</th>\n      <th>Month</th>\n      <th>WeekDay</th>\n      <th>Hour</th>\n      <th>SE Station</th>\n    </tr>\n  </thead>\n  <tbody>\n    <tr>\n      <th>2</th>\n      <td>2017-01-04 08:27:49</td>\n      <td>2017-01-04 08:34:45</td>\n      <td>416</td>\n      <td>May St &amp; Taylor St</td>\n      <td>Wood St &amp; Taylor St</td>\n      <td>Subscriber</td>\n      <td>Male</td>\n      <td>1981.0</td>\n      <td>1</td>\n      <td>2</td>\n      <td>8</td>\n      <td>May St &amp; Taylor St and Wood St &amp; Taylor St</td>\n    </tr>\n    <tr>\n      <th>10</th>\n      <td>2017-02-15 07:09:55</td>\n      <td>2017-02-15 07:14:56</td>\n      <td>301</td>\n      <td>Broadway &amp; Barry Ave</td>\n      <td>Wilton Ave &amp; Belmont Ave</td>\n      <td>Subscriber</td>\n      <td>Female</td>\n      <td>1993.0</td>\n      <td>2</td>\n      <td>2</td>\n      <td>7</td>\n      <td>Broadway &amp; Barry Ave and Wilton Ave &amp; Belmont Ave</td>\n    </tr>\n    <tr>\n      <th>16</th>\n      <td>2017-05-03 13:20:38</td>\n      <td>2017-05-03 13:31:13</td>\n      <td>635</td>\n      <td>Ada St &amp; Washington Blvd</td>\n      <td>Daley Center Plaza</td>\n      <td>Subscriber</td>\n      <td>Male</td>\n      <td>1967.0</td>\n      <td>5</td>\n      <td>2</td>\n      <td>13</td>\n      <td>Ada St &amp; Washington Blvd and Daley Center Plaza</td>\n    </tr>\n    <tr>\n      <th>24</th>\n      <td>2017-05-03 09:41:11</td>\n      <td>2017-05-03 09:49:10</td>\n      <td>479</td>\n      <td>Wabash Ave &amp; Roosevelt Rd</td>\n      <td>Halsted St &amp; Roosevelt Rd</td>\n      <td>Subscriber</td>\n      <td>Male</td>\n      <td>1992.0</td>\n      <td>5</td>\n      <td>2</td>\n      <td>9</td>\n      <td>Wabash Ave &amp; Roosevelt Rd and Halsted St &amp; Roo...</td>\n    </tr>\n    <tr>\n      <th>49</th>\n      <td>2017-02-08 07:13:31</td>\n      <td>2017-02-08 07:16:17</td>\n      <td>166</td>\n      <td>Pine Grove Ave &amp; Irving Park Rd</td>\n      <td>Clarendon Ave &amp; Gordon Ter</td>\n      <td>Subscriber</td>\n      <td>Male</td>\n      <td>1986.0</td>\n      <td>2</td>\n      <td>2</td>\n      <td>7</td>\n      <td>Pine Grove Ave &amp; Irving Park Rd and Clarendon ...</td>\n    </tr>\n  </tbody>\n</table>\n</div>"
     },
     "execution_count": 280,
     "metadata": {},
     "output_type": "execute_result"
    }
   ],
   "source": [
    "res=df.loc[(df['WeekDay'] ==2)]\n",
    "res.head()"
   ],
   "metadata": {
    "collapsed": false,
    "pycharm": {
     "name": "#%%\n"
    }
   }
  },
  {
   "cell_type": "code",
   "execution_count": 284,
   "outputs": [
    {
     "data": {
      "text/plain": "   Unnamed: 0           Start Time             End Time  Trip Duration  \\\n0     1621326  2017-06-21 08:36:34  2017-06-21 08:44:43        489.066   \n1      482740  2017-03-11 10:40:00  2017-03-11 10:46:00        402.549   \n2     1330037  2017-05-30 01:02:59  2017-05-30 01:13:37        637.251   \n3      665458  2017-04-02 07:48:35  2017-04-02 08:19:03       1827.341   \n4     1481135  2017-06-10 08:36:28  2017-06-10 09:02:17       1549.427   \n\n                                 Start Station                   End Station  \\\n0                         14th & Belmont St NW                15th & K St NW   \n1                   Yuma St & Tenley Circle NW  Connecticut Ave & Yuma St NW   \n2               17th St & Massachusetts Ave NW                 5th & K St NW   \n3             Constitution Ave & 2nd St NW/DOL    M St & Pennsylvania Ave NW   \n4  Henry Bacon Dr & Lincoln Memorial Circle NW         Maine Ave & 7th St SW   \n\n    User Type  \n0  Subscriber  \n1  Subscriber  \n2  Subscriber  \n3    Customer  \n4  Subscriber  ",
      "text/html": "<div>\n<style scoped>\n    .dataframe tbody tr th:only-of-type {\n        vertical-align: middle;\n    }\n\n    .dataframe tbody tr th {\n        vertical-align: top;\n    }\n\n    .dataframe thead th {\n        text-align: right;\n    }\n</style>\n<table border=\"1\" class=\"dataframe\">\n  <thead>\n    <tr style=\"text-align: right;\">\n      <th></th>\n      <th>Unnamed: 0</th>\n      <th>Start Time</th>\n      <th>End Time</th>\n      <th>Trip Duration</th>\n      <th>Start Station</th>\n      <th>End Station</th>\n      <th>User Type</th>\n    </tr>\n  </thead>\n  <tbody>\n    <tr>\n      <th>0</th>\n      <td>1621326</td>\n      <td>2017-06-21 08:36:34</td>\n      <td>2017-06-21 08:44:43</td>\n      <td>489.066</td>\n      <td>14th &amp; Belmont St NW</td>\n      <td>15th &amp; K St NW</td>\n      <td>Subscriber</td>\n    </tr>\n    <tr>\n      <th>1</th>\n      <td>482740</td>\n      <td>2017-03-11 10:40:00</td>\n      <td>2017-03-11 10:46:00</td>\n      <td>402.549</td>\n      <td>Yuma St &amp; Tenley Circle NW</td>\n      <td>Connecticut Ave &amp; Yuma St NW</td>\n      <td>Subscriber</td>\n    </tr>\n    <tr>\n      <th>2</th>\n      <td>1330037</td>\n      <td>2017-05-30 01:02:59</td>\n      <td>2017-05-30 01:13:37</td>\n      <td>637.251</td>\n      <td>17th St &amp; Massachusetts Ave NW</td>\n      <td>5th &amp; K St NW</td>\n      <td>Subscriber</td>\n    </tr>\n    <tr>\n      <th>3</th>\n      <td>665458</td>\n      <td>2017-04-02 07:48:35</td>\n      <td>2017-04-02 08:19:03</td>\n      <td>1827.341</td>\n      <td>Constitution Ave &amp; 2nd St NW/DOL</td>\n      <td>M St &amp; Pennsylvania Ave NW</td>\n      <td>Customer</td>\n    </tr>\n    <tr>\n      <th>4</th>\n      <td>1481135</td>\n      <td>2017-06-10 08:36:28</td>\n      <td>2017-06-10 09:02:17</td>\n      <td>1549.427</td>\n      <td>Henry Bacon Dr &amp; Lincoln Memorial Circle NW</td>\n      <td>Maine Ave &amp; 7th St SW</td>\n      <td>Subscriber</td>\n    </tr>\n  </tbody>\n</table>\n</div>"
     },
     "execution_count": 284,
     "metadata": {},
     "output_type": "execute_result"
    }
   ],
   "source": [
    "df=pd.read_csv('washington.csv')\n",
    "df1=pd.read_csv('chicago.csv')\n",
    "df2=pd.read_csv('new_york_city.csv')\n",
    "df.head()"
   ],
   "metadata": {
    "collapsed": false,
    "pycharm": {
     "name": "#%%\n"
    }
   }
  },
  {
   "cell_type": "code",
   "execution_count": 285,
   "outputs": [
    {
     "data": {
      "text/plain": "   Unnamed: 0           Start Time             End Time  Trip Duration  \\\n0     1423854  2017-06-23 15:09:32  2017-06-23 15:14:53            321   \n1      955915  2017-05-25 18:19:03  2017-05-25 18:45:53           1610   \n2        9031  2017-01-04 08:27:49  2017-01-04 08:34:45            416   \n3      304487  2017-03-06 13:49:38  2017-03-06 13:55:28            350   \n4       45207  2017-01-17 14:53:07  2017-01-17 15:02:01            534   \n\n                   Start Station                   End Station   User Type  \\\n0           Wood St & Hubbard St       Damen Ave & Chicago Ave  Subscriber   \n1            Theater on the Lake  Sheffield Ave & Waveland Ave  Subscriber   \n2             May St & Taylor St           Wood St & Taylor St  Subscriber   \n3  Christiana Ave & Lawrence Ave  St. Louis Ave & Balmoral Ave  Subscriber   \n4         Clark St & Randolph St  Desplaines St & Jackson Blvd  Subscriber   \n\n   Gender  Birth Year  \n0    Male      1992.0  \n1  Female      1992.0  \n2    Male      1981.0  \n3    Male      1986.0  \n4    Male      1975.0  ",
      "text/html": "<div>\n<style scoped>\n    .dataframe tbody tr th:only-of-type {\n        vertical-align: middle;\n    }\n\n    .dataframe tbody tr th {\n        vertical-align: top;\n    }\n\n    .dataframe thead th {\n        text-align: right;\n    }\n</style>\n<table border=\"1\" class=\"dataframe\">\n  <thead>\n    <tr style=\"text-align: right;\">\n      <th></th>\n      <th>Unnamed: 0</th>\n      <th>Start Time</th>\n      <th>End Time</th>\n      <th>Trip Duration</th>\n      <th>Start Station</th>\n      <th>End Station</th>\n      <th>User Type</th>\n      <th>Gender</th>\n      <th>Birth Year</th>\n    </tr>\n  </thead>\n  <tbody>\n    <tr>\n      <th>0</th>\n      <td>1423854</td>\n      <td>2017-06-23 15:09:32</td>\n      <td>2017-06-23 15:14:53</td>\n      <td>321</td>\n      <td>Wood St &amp; Hubbard St</td>\n      <td>Damen Ave &amp; Chicago Ave</td>\n      <td>Subscriber</td>\n      <td>Male</td>\n      <td>1992.0</td>\n    </tr>\n    <tr>\n      <th>1</th>\n      <td>955915</td>\n      <td>2017-05-25 18:19:03</td>\n      <td>2017-05-25 18:45:53</td>\n      <td>1610</td>\n      <td>Theater on the Lake</td>\n      <td>Sheffield Ave &amp; Waveland Ave</td>\n      <td>Subscriber</td>\n      <td>Female</td>\n      <td>1992.0</td>\n    </tr>\n    <tr>\n      <th>2</th>\n      <td>9031</td>\n      <td>2017-01-04 08:27:49</td>\n      <td>2017-01-04 08:34:45</td>\n      <td>416</td>\n      <td>May St &amp; Taylor St</td>\n      <td>Wood St &amp; Taylor St</td>\n      <td>Subscriber</td>\n      <td>Male</td>\n      <td>1981.0</td>\n    </tr>\n    <tr>\n      <th>3</th>\n      <td>304487</td>\n      <td>2017-03-06 13:49:38</td>\n      <td>2017-03-06 13:55:28</td>\n      <td>350</td>\n      <td>Christiana Ave &amp; Lawrence Ave</td>\n      <td>St. Louis Ave &amp; Balmoral Ave</td>\n      <td>Subscriber</td>\n      <td>Male</td>\n      <td>1986.0</td>\n    </tr>\n    <tr>\n      <th>4</th>\n      <td>45207</td>\n      <td>2017-01-17 14:53:07</td>\n      <td>2017-01-17 15:02:01</td>\n      <td>534</td>\n      <td>Clark St &amp; Randolph St</td>\n      <td>Desplaines St &amp; Jackson Blvd</td>\n      <td>Subscriber</td>\n      <td>Male</td>\n      <td>1975.0</td>\n    </tr>\n  </tbody>\n</table>\n</div>"
     },
     "execution_count": 285,
     "metadata": {},
     "output_type": "execute_result"
    }
   ],
   "source": [
    "df1.head()"
   ],
   "metadata": {
    "collapsed": false,
    "pycharm": {
     "name": "#%%\n"
    }
   }
  },
  {
   "cell_type": "code",
   "execution_count": 287,
   "outputs": [
    {
     "data": {
      "text/plain": "   Unnamed: 0           Start Time             End Time  Trip Duration  \\\n0     5688089  2017-06-11 14:55:05  2017-06-11 15:08:21            795   \n1     4096714  2017-05-11 15:30:11  2017-05-11 15:41:43            692   \n2     2173887  2017-03-29 13:26:26  2017-03-29 13:48:31           1325   \n3     3945638  2017-05-08 19:47:18  2017-05-08 19:59:01            703   \n4     6208972  2017-06-21 07:49:16  2017-06-21 07:54:46            329   \n\n             Start Station             End Station   User Type  Gender  \\\n0  Suffolk St & Stanton St  W Broadway & Spring St  Subscriber    Male   \n1  Lexington Ave & E 63 St         1 Ave & E 78 St  Subscriber    Male   \n2        1 Pl & Clinton St    Henry St & Degraw St  Subscriber    Male   \n3    Barrow St & Hudson St         W 20 St & 8 Ave  Subscriber  Female   \n4          1 Ave & E 44 St         E 53 St & 3 Ave  Subscriber    Male   \n\n   Birth Year  \n0      1998.0  \n1      1981.0  \n2      1987.0  \n3      1986.0  \n4      1992.0  ",
      "text/html": "<div>\n<style scoped>\n    .dataframe tbody tr th:only-of-type {\n        vertical-align: middle;\n    }\n\n    .dataframe tbody tr th {\n        vertical-align: top;\n    }\n\n    .dataframe thead th {\n        text-align: right;\n    }\n</style>\n<table border=\"1\" class=\"dataframe\">\n  <thead>\n    <tr style=\"text-align: right;\">\n      <th></th>\n      <th>Unnamed: 0</th>\n      <th>Start Time</th>\n      <th>End Time</th>\n      <th>Trip Duration</th>\n      <th>Start Station</th>\n      <th>End Station</th>\n      <th>User Type</th>\n      <th>Gender</th>\n      <th>Birth Year</th>\n    </tr>\n  </thead>\n  <tbody>\n    <tr>\n      <th>0</th>\n      <td>5688089</td>\n      <td>2017-06-11 14:55:05</td>\n      <td>2017-06-11 15:08:21</td>\n      <td>795</td>\n      <td>Suffolk St &amp; Stanton St</td>\n      <td>W Broadway &amp; Spring St</td>\n      <td>Subscriber</td>\n      <td>Male</td>\n      <td>1998.0</td>\n    </tr>\n    <tr>\n      <th>1</th>\n      <td>4096714</td>\n      <td>2017-05-11 15:30:11</td>\n      <td>2017-05-11 15:41:43</td>\n      <td>692</td>\n      <td>Lexington Ave &amp; E 63 St</td>\n      <td>1 Ave &amp; E 78 St</td>\n      <td>Subscriber</td>\n      <td>Male</td>\n      <td>1981.0</td>\n    </tr>\n    <tr>\n      <th>2</th>\n      <td>2173887</td>\n      <td>2017-03-29 13:26:26</td>\n      <td>2017-03-29 13:48:31</td>\n      <td>1325</td>\n      <td>1 Pl &amp; Clinton St</td>\n      <td>Henry St &amp; Degraw St</td>\n      <td>Subscriber</td>\n      <td>Male</td>\n      <td>1987.0</td>\n    </tr>\n    <tr>\n      <th>3</th>\n      <td>3945638</td>\n      <td>2017-05-08 19:47:18</td>\n      <td>2017-05-08 19:59:01</td>\n      <td>703</td>\n      <td>Barrow St &amp; Hudson St</td>\n      <td>W 20 St &amp; 8 Ave</td>\n      <td>Subscriber</td>\n      <td>Female</td>\n      <td>1986.0</td>\n    </tr>\n    <tr>\n      <th>4</th>\n      <td>6208972</td>\n      <td>2017-06-21 07:49:16</td>\n      <td>2017-06-21 07:54:46</td>\n      <td>329</td>\n      <td>1 Ave &amp; E 44 St</td>\n      <td>E 53 St &amp; 3 Ave</td>\n      <td>Subscriber</td>\n      <td>Male</td>\n      <td>1992.0</td>\n    </tr>\n  </tbody>\n</table>\n</div>"
     },
     "execution_count": 287,
     "metadata": {},
     "output_type": "execute_result"
    }
   ],
   "source": [
    "df2.head()"
   ],
   "metadata": {
    "collapsed": false,
    "pycharm": {
     "name": "#%%\n"
    }
   }
  },
  {
   "cell_type": "code",
   "execution_count": 292,
   "outputs": [
    {
     "data": {
      "text/plain": "Unnamed: 0                int64\nStart Time       datetime64[ns]\nEnd Time                 object\nTrip Duration           float64\nStart Station            object\nEnd Station              object\nUser Type                object\nMonth                     int64\nWeekDay                   int64\nHour                      int64\nSE Station               object\ndtype: object"
     },
     "execution_count": 292,
     "metadata": {},
     "output_type": "execute_result"
    }
   ],
   "source": [
    "df.dtypes"
   ],
   "metadata": {
    "collapsed": false,
    "pycharm": {
     "name": "#%%\n"
    }
   }
  },
  {
   "cell_type": "code",
   "execution_count": 293,
   "outputs": [
    {
     "data": {
      "text/plain": "   Unnamed: 0          Start Time             End Time  Trip Duration  \\\n0     1621326 2017-06-21 08:36:34  2017-06-21 08:44:43        489.066   \n1      482740 2017-03-11 10:40:00  2017-03-11 10:46:00        402.549   \n2     1330037 2017-05-30 01:02:59  2017-05-30 01:13:37        637.251   \n3      665458 2017-04-02 07:48:35  2017-04-02 08:19:03       1827.341   \n4     1481135 2017-06-10 08:36:28  2017-06-10 09:02:17       1549.427   \n\n                                 Start Station                   End Station  \\\n0                         14th & Belmont St NW                15th & K St NW   \n1                   Yuma St & Tenley Circle NW  Connecticut Ave & Yuma St NW   \n2               17th St & Massachusetts Ave NW                 5th & K St NW   \n3             Constitution Ave & 2nd St NW/DOL    M St & Pennsylvania Ave NW   \n4  Henry Bacon Dr & Lincoln Memorial Circle NW         Maine Ave & 7th St SW   \n\n    User Type  Month  WeekDay  Hour  \\\n0  Subscriber      6        2     8   \n1  Subscriber      3        5    10   \n2  Subscriber      5        1     1   \n3    Customer      4        6     7   \n4  Subscriber      6        5     8   \n\n                                          SE Station  \n0            14th & Belmont St NW and 15th & K St NW  \n1  Yuma St & Tenley Circle NW and Connecticut Ave...  \n2   17th St & Massachusetts Ave NW and 5th & K St NW  \n3  Constitution Ave & 2nd St NW/DOL and M St & Pe...  \n4  Henry Bacon Dr & Lincoln Memorial Circle NW an...  ",
      "text/html": "<div>\n<style scoped>\n    .dataframe tbody tr th:only-of-type {\n        vertical-align: middle;\n    }\n\n    .dataframe tbody tr th {\n        vertical-align: top;\n    }\n\n    .dataframe thead th {\n        text-align: right;\n    }\n</style>\n<table border=\"1\" class=\"dataframe\">\n  <thead>\n    <tr style=\"text-align: right;\">\n      <th></th>\n      <th>Unnamed: 0</th>\n      <th>Start Time</th>\n      <th>End Time</th>\n      <th>Trip Duration</th>\n      <th>Start Station</th>\n      <th>End Station</th>\n      <th>User Type</th>\n      <th>Month</th>\n      <th>WeekDay</th>\n      <th>Hour</th>\n      <th>SE Station</th>\n    </tr>\n  </thead>\n  <tbody>\n    <tr>\n      <th>0</th>\n      <td>1621326</td>\n      <td>2017-06-21 08:36:34</td>\n      <td>2017-06-21 08:44:43</td>\n      <td>489.066</td>\n      <td>14th &amp; Belmont St NW</td>\n      <td>15th &amp; K St NW</td>\n      <td>Subscriber</td>\n      <td>6</td>\n      <td>2</td>\n      <td>8</td>\n      <td>14th &amp; Belmont St NW and 15th &amp; K St NW</td>\n    </tr>\n    <tr>\n      <th>1</th>\n      <td>482740</td>\n      <td>2017-03-11 10:40:00</td>\n      <td>2017-03-11 10:46:00</td>\n      <td>402.549</td>\n      <td>Yuma St &amp; Tenley Circle NW</td>\n      <td>Connecticut Ave &amp; Yuma St NW</td>\n      <td>Subscriber</td>\n      <td>3</td>\n      <td>5</td>\n      <td>10</td>\n      <td>Yuma St &amp; Tenley Circle NW and Connecticut Ave...</td>\n    </tr>\n    <tr>\n      <th>2</th>\n      <td>1330037</td>\n      <td>2017-05-30 01:02:59</td>\n      <td>2017-05-30 01:13:37</td>\n      <td>637.251</td>\n      <td>17th St &amp; Massachusetts Ave NW</td>\n      <td>5th &amp; K St NW</td>\n      <td>Subscriber</td>\n      <td>5</td>\n      <td>1</td>\n      <td>1</td>\n      <td>17th St &amp; Massachusetts Ave NW and 5th &amp; K St NW</td>\n    </tr>\n    <tr>\n      <th>3</th>\n      <td>665458</td>\n      <td>2017-04-02 07:48:35</td>\n      <td>2017-04-02 08:19:03</td>\n      <td>1827.341</td>\n      <td>Constitution Ave &amp; 2nd St NW/DOL</td>\n      <td>M St &amp; Pennsylvania Ave NW</td>\n      <td>Customer</td>\n      <td>4</td>\n      <td>6</td>\n      <td>7</td>\n      <td>Constitution Ave &amp; 2nd St NW/DOL and M St &amp; Pe...</td>\n    </tr>\n    <tr>\n      <th>4</th>\n      <td>1481135</td>\n      <td>2017-06-10 08:36:28</td>\n      <td>2017-06-10 09:02:17</td>\n      <td>1549.427</td>\n      <td>Henry Bacon Dr &amp; Lincoln Memorial Circle NW</td>\n      <td>Maine Ave &amp; 7th St SW</td>\n      <td>Subscriber</td>\n      <td>6</td>\n      <td>5</td>\n      <td>8</td>\n      <td>Henry Bacon Dr &amp; Lincoln Memorial Circle NW an...</td>\n    </tr>\n  </tbody>\n</table>\n</div>"
     },
     "execution_count": 293,
     "metadata": {},
     "output_type": "execute_result"
    }
   ],
   "source": [
    "df.head()"
   ],
   "metadata": {
    "collapsed": false,
    "pycharm": {
     "name": "#%%\n"
    }
   }
  },
  {
   "cell_type": "code",
   "execution_count": 17,
   "outputs": [
    {
     "data": {
      "text/plain": "                Start Time             End Time  Trip Duration  \\\n2      2017-01-04 08:27:49  2017-01-04 08:34:45            416   \n4      2017-01-17 14:53:07  2017-01-17 15:02:01            534   \n11     2017-01-22 15:15:45  2017-01-22 15:31:02            917   \n12     2017-01-08 16:03:00  2017-01-08 16:07:37            277   \n39     2017-01-26 19:45:41  2017-01-26 19:59:31            830   \n...                    ...                  ...            ...   \n299946 2017-01-21 21:29:40  2017-01-21 21:44:59            919   \n299958 2017-01-31 11:44:34  2017-01-31 11:52:17            463   \n299972 2017-01-17 08:42:37  2017-01-17 08:53:20            643   \n299975 2017-01-18 11:28:36  2017-01-18 11:31:14            158   \n299995 2017-01-21 13:18:00  2017-01-21 13:27:50            590   \n\n                         Start Station                   End Station  \\\n2                   May St & Taylor St           Wood St & Taylor St   \n4               Clark St & Randolph St  Desplaines St & Jackson Blvd   \n11      Southport Ave & Wellington Ave        Clark St & Schiller St   \n12               Green St & Madison St      Ada St & Washington Blvd   \n39                McClurg Ct & Erie St  Clinton St & Washington Blvd   \n...                                ...                           ...   \n299946           Dayton St & North Ave        Leavitt St & North Ave   \n299958      Indiana Ave & Roosevelt Rd     Michigan Ave & Madison St   \n299972     Racine Ave & Wrightwood Ave     Clark St & Wellington Ave   \n299975           Dayton St & North Ave  Sheffield Ave & Kingsbury St   \n299995         Orleans St & Elm St (*)   Sheffield Ave & Webster Ave   \n\n         User Type  Gender  Birth Year  Month  WeekDay  Hour  \\\n2       Subscriber    Male      1981.0      1        2     8   \n4       Subscriber    Male      1975.0      1        1    14   \n11      Subscriber    Male      1964.0      1        6    15   \n12      Subscriber    Male      1961.0      1        6    16   \n39      Subscriber    Male      1977.0      1        3    19   \n...            ...     ...         ...    ...      ...   ...   \n299946  Subscriber    Male      1986.0      1        5    21   \n299958  Subscriber  Female      1966.0      1        1    11   \n299972  Subscriber  Female      1978.0      1        1     8   \n299975  Subscriber    Male      1958.0      1        2    11   \n299995  Subscriber    Male      1965.0      1        5    13   \n\n                                               SE Station  \n2              May St & Taylor St and Wood St & Taylor St  \n4       Clark St & Randolph St and Desplaines St & Jac...  \n11      Southport Ave & Wellington Ave and Clark St & ...  \n12      Green St & Madison St and Ada St & Washington ...  \n39      McClurg Ct & Erie St and Clinton St & Washingt...  \n...                                                   ...  \n299946   Dayton St & North Ave and Leavitt St & North Ave  \n299958  Indiana Ave & Roosevelt Rd and Michigan Ave & ...  \n299972  Racine Ave & Wrightwood Ave and Clark St & Wel...  \n299975  Dayton St & North Ave and Sheffield Ave & King...  \n299995  Orleans St & Elm St (*) and Sheffield Ave & We...  \n\n[20804 rows x 12 columns]",
      "text/html": "<div>\n<style scoped>\n    .dataframe tbody tr th:only-of-type {\n        vertical-align: middle;\n    }\n\n    .dataframe tbody tr th {\n        vertical-align: top;\n    }\n\n    .dataframe thead th {\n        text-align: right;\n    }\n</style>\n<table border=\"1\" class=\"dataframe\">\n  <thead>\n    <tr style=\"text-align: right;\">\n      <th></th>\n      <th>Start Time</th>\n      <th>End Time</th>\n      <th>Trip Duration</th>\n      <th>Start Station</th>\n      <th>End Station</th>\n      <th>User Type</th>\n      <th>Gender</th>\n      <th>Birth Year</th>\n      <th>Month</th>\n      <th>WeekDay</th>\n      <th>Hour</th>\n      <th>SE Station</th>\n    </tr>\n  </thead>\n  <tbody>\n    <tr>\n      <th>2</th>\n      <td>2017-01-04 08:27:49</td>\n      <td>2017-01-04 08:34:45</td>\n      <td>416</td>\n      <td>May St &amp; Taylor St</td>\n      <td>Wood St &amp; Taylor St</td>\n      <td>Subscriber</td>\n      <td>Male</td>\n      <td>1981.0</td>\n      <td>1</td>\n      <td>2</td>\n      <td>8</td>\n      <td>May St &amp; Taylor St and Wood St &amp; Taylor St</td>\n    </tr>\n    <tr>\n      <th>4</th>\n      <td>2017-01-17 14:53:07</td>\n      <td>2017-01-17 15:02:01</td>\n      <td>534</td>\n      <td>Clark St &amp; Randolph St</td>\n      <td>Desplaines St &amp; Jackson Blvd</td>\n      <td>Subscriber</td>\n      <td>Male</td>\n      <td>1975.0</td>\n      <td>1</td>\n      <td>1</td>\n      <td>14</td>\n      <td>Clark St &amp; Randolph St and Desplaines St &amp; Jac...</td>\n    </tr>\n    <tr>\n      <th>11</th>\n      <td>2017-01-22 15:15:45</td>\n      <td>2017-01-22 15:31:02</td>\n      <td>917</td>\n      <td>Southport Ave &amp; Wellington Ave</td>\n      <td>Clark St &amp; Schiller St</td>\n      <td>Subscriber</td>\n      <td>Male</td>\n      <td>1964.0</td>\n      <td>1</td>\n      <td>6</td>\n      <td>15</td>\n      <td>Southport Ave &amp; Wellington Ave and Clark St &amp; ...</td>\n    </tr>\n    <tr>\n      <th>12</th>\n      <td>2017-01-08 16:03:00</td>\n      <td>2017-01-08 16:07:37</td>\n      <td>277</td>\n      <td>Green St &amp; Madison St</td>\n      <td>Ada St &amp; Washington Blvd</td>\n      <td>Subscriber</td>\n      <td>Male</td>\n      <td>1961.0</td>\n      <td>1</td>\n      <td>6</td>\n      <td>16</td>\n      <td>Green St &amp; Madison St and Ada St &amp; Washington ...</td>\n    </tr>\n    <tr>\n      <th>39</th>\n      <td>2017-01-26 19:45:41</td>\n      <td>2017-01-26 19:59:31</td>\n      <td>830</td>\n      <td>McClurg Ct &amp; Erie St</td>\n      <td>Clinton St &amp; Washington Blvd</td>\n      <td>Subscriber</td>\n      <td>Male</td>\n      <td>1977.0</td>\n      <td>1</td>\n      <td>3</td>\n      <td>19</td>\n      <td>McClurg Ct &amp; Erie St and Clinton St &amp; Washingt...</td>\n    </tr>\n    <tr>\n      <th>...</th>\n      <td>...</td>\n      <td>...</td>\n      <td>...</td>\n      <td>...</td>\n      <td>...</td>\n      <td>...</td>\n      <td>...</td>\n      <td>...</td>\n      <td>...</td>\n      <td>...</td>\n      <td>...</td>\n      <td>...</td>\n    </tr>\n    <tr>\n      <th>299946</th>\n      <td>2017-01-21 21:29:40</td>\n      <td>2017-01-21 21:44:59</td>\n      <td>919</td>\n      <td>Dayton St &amp; North Ave</td>\n      <td>Leavitt St &amp; North Ave</td>\n      <td>Subscriber</td>\n      <td>Male</td>\n      <td>1986.0</td>\n      <td>1</td>\n      <td>5</td>\n      <td>21</td>\n      <td>Dayton St &amp; North Ave and Leavitt St &amp; North Ave</td>\n    </tr>\n    <tr>\n      <th>299958</th>\n      <td>2017-01-31 11:44:34</td>\n      <td>2017-01-31 11:52:17</td>\n      <td>463</td>\n      <td>Indiana Ave &amp; Roosevelt Rd</td>\n      <td>Michigan Ave &amp; Madison St</td>\n      <td>Subscriber</td>\n      <td>Female</td>\n      <td>1966.0</td>\n      <td>1</td>\n      <td>1</td>\n      <td>11</td>\n      <td>Indiana Ave &amp; Roosevelt Rd and Michigan Ave &amp; ...</td>\n    </tr>\n    <tr>\n      <th>299972</th>\n      <td>2017-01-17 08:42:37</td>\n      <td>2017-01-17 08:53:20</td>\n      <td>643</td>\n      <td>Racine Ave &amp; Wrightwood Ave</td>\n      <td>Clark St &amp; Wellington Ave</td>\n      <td>Subscriber</td>\n      <td>Female</td>\n      <td>1978.0</td>\n      <td>1</td>\n      <td>1</td>\n      <td>8</td>\n      <td>Racine Ave &amp; Wrightwood Ave and Clark St &amp; Wel...</td>\n    </tr>\n    <tr>\n      <th>299975</th>\n      <td>2017-01-18 11:28:36</td>\n      <td>2017-01-18 11:31:14</td>\n      <td>158</td>\n      <td>Dayton St &amp; North Ave</td>\n      <td>Sheffield Ave &amp; Kingsbury St</td>\n      <td>Subscriber</td>\n      <td>Male</td>\n      <td>1958.0</td>\n      <td>1</td>\n      <td>2</td>\n      <td>11</td>\n      <td>Dayton St &amp; North Ave and Sheffield Ave &amp; King...</td>\n    </tr>\n    <tr>\n      <th>299995</th>\n      <td>2017-01-21 13:18:00</td>\n      <td>2017-01-21 13:27:50</td>\n      <td>590</td>\n      <td>Orleans St &amp; Elm St (*)</td>\n      <td>Sheffield Ave &amp; Webster Ave</td>\n      <td>Subscriber</td>\n      <td>Male</td>\n      <td>1965.0</td>\n      <td>1</td>\n      <td>5</td>\n      <td>13</td>\n      <td>Orleans St &amp; Elm St (*) and Sheffield Ave &amp; We...</td>\n    </tr>\n  </tbody>\n</table>\n<p>20804 rows × 12 columns</p>\n</div>"
     },
     "execution_count": 17,
     "metadata": {},
     "output_type": "execute_result"
    }
   ],
   "source": [
    "df[df['Month']==1]"
   ],
   "metadata": {
    "collapsed": false,
    "pycharm": {
     "name": "#%%\n"
    }
   }
  },
  {
   "cell_type": "code",
   "execution_count": null,
   "outputs": [],
   "source": [],
   "metadata": {
    "collapsed": false,
    "pycharm": {
     "name": "#%%\n"
    }
   }
  }
 ],
 "metadata": {
  "kernelspec": {
   "display_name": "Python 3",
   "language": "python",
   "name": "python3"
  },
  "language_info": {
   "codemirror_mode": {
    "name": "ipython",
    "version": 2
   },
   "file_extension": ".py",
   "mimetype": "text/x-python",
   "name": "python",
   "nbconvert_exporter": "python",
   "pygments_lexer": "ipython2",
   "version": "2.7.6"
  }
 },
 "nbformat": 4,
 "nbformat_minor": 0
}